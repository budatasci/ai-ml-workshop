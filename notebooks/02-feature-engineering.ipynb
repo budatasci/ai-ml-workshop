{
 "cells": [
  {
   "cell_type": "markdown",
   "id": "d4be07fa",
   "metadata": {},
   "source": [
    "# Feature Engineering\n",
    "\n",
    "## Table of Contents\n",
    "\n",
    "1. Split the data into training and test data set\n",
    "2. Scale numerical features (normalization, standardization)\n",
    "3. Encode categorical features to numeric ones\n",
    "4. Save transformed data for model training"
   ]
  },
  {
   "cell_type": "code",
   "execution_count": 1,
   "id": "73ead89a",
   "metadata": {},
   "outputs": [],
   "source": [
    "## Load the data \n",
    "import pandas as pd\n",
    "data = pd.read_csv('../data/Breast_Cancer.csv')"
   ]
  },
  {
   "cell_type": "markdown",
   "id": "1a0528bc",
   "metadata": {},
   "source": [
    "## 1. Split the data into training and test data set"
   ]
  },
  {
   "cell_type": "markdown",
   "id": "ba3d739f",
   "metadata": {},
   "source": [
    "We split the data into a training and test data set because ..."
   ]
  },
  {
   "cell_type": "code",
   "execution_count": 76,
   "id": "c78e737b",
   "metadata": {},
   "outputs": [],
   "source": [
    "from sklearn.model_selection import train_test_split\n",
    "\n",
    "X_train, X_test, y_train, y_test = \\\n",
    "    train_test_split(data.drop(['Status'], axis=1),data['Status'], \n",
    "    test_size=0.20,\n",
    "    random_state=42, \n",
    "    stratify=data['Status'])"
   ]
  },
  {
   "cell_type": "markdown",
   "id": "2606b446",
   "metadata": {},
   "source": [
    "## 2. Feature Scaling for Numeric \n",
    "1. ML algorithms don't work well when numeric features have very different scales\n",
    "2. Apply either: \n",
    "    * Normalization (MinMaxScaler) bounds the values to a specific range (e.g. 0-1)\n",
    "    * Standardization (StandardScaler) less affected by outliers does not bound to range"
   ]
  },
  {
   "cell_type": "code",
   "execution_count": 77,
   "id": "38c8f5f0",
   "metadata": {},
   "outputs": [
    {
     "name": "stdout",
     "output_type": "stream",
     "text": [
      "Age\n",
      "Tumor Size\n",
      "Regional Node Examined\n",
      "Reginol Node Positive\n",
      "Survival Months\n",
      "['Age', 'Tumor Size', 'Regional Node Examined', 'Reginol Node Positive', 'Survival Months']\n"
     ]
    }
   ],
   "source": [
    "# get numeric feature columns and store them in num\n",
    "num = []\n",
    "for label, content in data.items():\n",
    "    if pd.api.types.is_numeric_dtype(content): # check whether column is numerical\n",
    "        print(label)\n",
    "        num.append(label)\n",
    "print(num)"
   ]
  },
  {
   "cell_type": "code",
   "execution_count": 78,
   "id": "e658d048",
   "metadata": {},
   "outputs": [],
   "source": [
    "from sklearn.preprocessing import StandardScaler\n",
    "scaler = StandardScaler()\n",
    "\n",
    "X_train_num = X_train[num]\n",
    "X_test_num = X_test[num]\n",
    "\n",
    "O = scaler.fit_transform(X_train_num)\n",
    "P = pd.DataFrame(O, columns=X_train_num.columns, index=X_train_num.index)\n",
    "\n",
    "Q = scaler.fit_transform(X_test_num)\n",
    "R = pd.DataFrame(Q, columns=X_test_num.columns, index=X_test_num.index)"
   ]
  },
  {
   "cell_type": "markdown",
   "id": "603786e5",
   "metadata": {},
   "source": [
    "## 3. Encode Categorical Features into Numeric One\n",
    "\n",
    "1. ML algorithms can't interpret non-numeric features \n",
    "2. Apply:\n",
    "    * Label Encoder - categorical features are ordinal i.e. if you are converting severity or ranking\n",
    "    * One-Hot Encoding - categorical are non-ordinal "
   ]
  },
  {
   "cell_type": "code",
   "execution_count": 79,
   "id": "42a2fbac",
   "metadata": {},
   "outputs": [
    {
     "name": "stdout",
     "output_type": "stream",
     "text": [
      "Race\n",
      "Marital Status\n",
      "T Stage \n",
      "N Stage\n",
      "6th Stage\n",
      "differentiate\n",
      "Grade\n",
      "A Stage\n",
      "Estrogen Status\n",
      "Progesterone Status\n",
      "15\n"
     ]
    }
   ],
   "source": [
    "# get categorical feature columns and store them in cat\n",
    "cat = []\n",
    "for label, content in X_train.items():\n",
    "  if not pd.api.types.is_numeric_dtype(content):\n",
    "    print(label)\n",
    "    num.append(label)\n",
    "print(len(num))"
   ]
  },
  {
   "cell_type": "code",
   "execution_count": 80,
   "id": "3e3cefbe",
   "metadata": {},
   "outputs": [],
   "source": [
    "from sklearn.preprocessing import LabelEncoder\n",
    "\n",
    "class MultiColumnLabelEncoder:\n",
    "    def __init__(self,columns = None):\n",
    "        self.columns = columns # array of column names to encode\n",
    "\n",
    "    def fit(self,X,y=None):\n",
    "        return self \n",
    "\n",
    "    def transform(self,X):\n",
    "        '''\n",
    "        Transforms columns of X specified in self.columns using\n",
    "        LabelEncoder(). If no columns specified, transforms all\n",
    "        columns in X.\n",
    "        '''\n",
    "        output = X.copy()\n",
    "        if self.columns is not None:\n",
    "            for col in self.columns:\n",
    "                output[col] = LabelEncoder().fit_transform(output[col])\n",
    "        else:\n",
    "            for colname,col in output.iteritems():\n",
    "                output[colname] = LabelEncoder().fit_transform(col)\n",
    "        return output\n",
    "\n",
    "    def fit_transform(self,X,y=None):\n",
    "        return self.fit(X,y).transform(X)"
   ]
  },
  {
   "cell_type": "code",
   "execution_count": 81,
   "id": "ca9782a1",
   "metadata": {},
   "outputs": [],
   "source": [
    "# T Stage, N Stage, 6th Stage, differentiate, Grade, A Stage are ordinal \n",
    "ordinal = ['T Stage ', 'N Stage', '6th Stage', 'differentiate', 'Grade', 'A Stage']\n",
    "X_train_cat_ord = X_train[ordinal]\n",
    "X_test_cat_ord = X_test[ordinal]\n",
    "\n",
    "X_train_cat_ord_transformed = MultiColumnLabelEncoder(columns = ordinal).fit_transform(X_train_cat_ord)\n",
    "X_test_cat_ord_transformed = MultiColumnLabelEncoder(columns = ordinal).fit_transform(X_test_cat_ord)"
   ]
  },
  {
   "cell_type": "code",
   "execution_count": 82,
   "id": "2b593692",
   "metadata": {},
   "outputs": [
    {
     "data": {
      "text/html": [
       "<div>\n",
       "<style scoped>\n",
       "    .dataframe tbody tr th:only-of-type {\n",
       "        vertical-align: middle;\n",
       "    }\n",
       "\n",
       "    .dataframe tbody tr th {\n",
       "        vertical-align: top;\n",
       "    }\n",
       "\n",
       "    .dataframe thead th {\n",
       "        text-align: right;\n",
       "    }\n",
       "</style>\n",
       "<table border=\"1\" class=\"dataframe\">\n",
       "  <thead>\n",
       "    <tr style=\"text-align: right;\">\n",
       "      <th></th>\n",
       "      <th>Estrogen Status</th>\n",
       "      <th>Progesterone Status</th>\n",
       "      <th>Race_Black</th>\n",
       "      <th>Race_Other</th>\n",
       "      <th>Race_White</th>\n",
       "      <th>Marital Status_Divorced</th>\n",
       "      <th>Marital Status_Married</th>\n",
       "      <th>Marital Status_Separated</th>\n",
       "      <th>Marital Status_Single</th>\n",
       "      <th>Marital Status_Widowed</th>\n",
       "    </tr>\n",
       "  </thead>\n",
       "  <tbody>\n",
       "    <tr>\n",
       "      <th>304</th>\n",
       "      <td>1</td>\n",
       "      <td>1</td>\n",
       "      <td>0</td>\n",
       "      <td>0</td>\n",
       "      <td>1</td>\n",
       "      <td>0</td>\n",
       "      <td>1</td>\n",
       "      <td>0</td>\n",
       "      <td>0</td>\n",
       "      <td>0</td>\n",
       "    </tr>\n",
       "    <tr>\n",
       "      <th>445</th>\n",
       "      <td>1</td>\n",
       "      <td>0</td>\n",
       "      <td>0</td>\n",
       "      <td>0</td>\n",
       "      <td>1</td>\n",
       "      <td>0</td>\n",
       "      <td>1</td>\n",
       "      <td>0</td>\n",
       "      <td>0</td>\n",
       "      <td>0</td>\n",
       "    </tr>\n",
       "    <tr>\n",
       "      <th>3368</th>\n",
       "      <td>1</td>\n",
       "      <td>1</td>\n",
       "      <td>0</td>\n",
       "      <td>0</td>\n",
       "      <td>1</td>\n",
       "      <td>0</td>\n",
       "      <td>1</td>\n",
       "      <td>0</td>\n",
       "      <td>0</td>\n",
       "      <td>0</td>\n",
       "    </tr>\n",
       "    <tr>\n",
       "      <th>1383</th>\n",
       "      <td>1</td>\n",
       "      <td>1</td>\n",
       "      <td>0</td>\n",
       "      <td>0</td>\n",
       "      <td>1</td>\n",
       "      <td>0</td>\n",
       "      <td>1</td>\n",
       "      <td>0</td>\n",
       "      <td>0</td>\n",
       "      <td>0</td>\n",
       "    </tr>\n",
       "    <tr>\n",
       "      <th>3584</th>\n",
       "      <td>1</td>\n",
       "      <td>1</td>\n",
       "      <td>0</td>\n",
       "      <td>0</td>\n",
       "      <td>1</td>\n",
       "      <td>1</td>\n",
       "      <td>0</td>\n",
       "      <td>0</td>\n",
       "      <td>0</td>\n",
       "      <td>0</td>\n",
       "    </tr>\n",
       "  </tbody>\n",
       "</table>\n",
       "</div>"
      ],
      "text/plain": [
       "      Estrogen Status  Progesterone Status  Race_Black  Race_Other  \\\n",
       "304                 1                    1           0           0   \n",
       "445                 1                    0           0           0   \n",
       "3368                1                    1           0           0   \n",
       "1383                1                    1           0           0   \n",
       "3584                1                    1           0           0   \n",
       "\n",
       "      Race_White  Marital Status_Divorced  Marital Status_Married  \\\n",
       "304            1                        0                       1   \n",
       "445            1                        0                       1   \n",
       "3368           1                        0                       1   \n",
       "1383           1                        0                       1   \n",
       "3584           1                        1                       0   \n",
       "\n",
       "      Marital Status_Separated  Marital Status_Single   Marital Status_Widowed  \n",
       "304                          0                       0                       0  \n",
       "445                          0                       0                       0  \n",
       "3368                         0                       0                       0  \n",
       "1383                         0                       0                       0  \n",
       "3584                         0                       0                       0  "
      ]
     },
     "execution_count": 82,
     "metadata": {},
     "output_type": "execute_result"
    }
   ],
   "source": [
    "# Race, Marital Status, Estrogen Status, and Progesterone Status are non-ordinal\n",
    "non_ordinal = ['Race', 'Marital Status', 'Estrogen Status', 'Progesterone Status']\n",
    "\n",
    "X_train_cat_non = X_train[non_ordinal]\n",
    "X_test_cat_non = X_test[non_ordinal]\n",
    "\n",
    "categories = ['Race','Marital Status']\n",
    "binaries = ['Estrogen Status','Progesterone Status']\n",
    "\n",
    "X_train_oneHot, X_test_oneHot = pd.get_dummies(X_train_cat_non, columns = categories), pd.get_dummies(X_test_cat_non, columns = categories)\n",
    "\n",
    "X_train_oneHot[\"Estrogen Status\"] = X_train_cat_non[\"Estrogen Status\"].apply(lambda x: 1 if x in [\"Positive\"] else 0)\n",
    "X_test_oneHot[\"Estrogen Status\"] = X_test_cat_non[\"Estrogen Status\"].apply(lambda x: 1 if x in [\"Positive\"] else 0)\n",
    "\n",
    "X_train_oneHot[\"Progesterone Status\"] = X_train_cat_non[\"Progesterone Status\"].apply(lambda x: 1 if x in [\"Positive\"] else 0)\n",
    "X_test_oneHot['Progesterone Status'] = X_test_cat_non['Progesterone Status'].apply(lambda x: 1 if x in [\"Positive\"] else 0)\n",
    "\n",
    "X_test_oneHot.head()"
   ]
  },
  {
   "cell_type": "markdown",
   "id": "274292b9",
   "metadata": {},
   "source": [
    "## 3.1 Encoding Status\n",
    "Transform the target label from categorical to numerical"
   ]
  },
  {
   "cell_type": "code",
   "execution_count": 83,
   "id": "71c0c422",
   "metadata": {},
   "outputs": [],
   "source": [
    "y_train_prepared =  y_train.apply(lambda x: 1 if x in [\"Alive\"] else 0)\n",
    "y_test_prepared =  y_test.apply(lambda x: 1 if x in [\"Alive\"] else 0)"
   ]
  },
  {
   "cell_type": "markdown",
   "id": "92fd3af9",
   "metadata": {},
   "source": [
    "## 4. Save transformed data for model training"
   ]
  },
  {
   "cell_type": "code",
   "execution_count": 90,
   "id": "c85246fb",
   "metadata": {},
   "outputs": [],
   "source": [
    "X_train_prepared = pd.concat([P, X_train_cat_ord_transformed, X_train_oneHot],axis=1)\n",
    "X_test_prepared = pd.concat([R, X_test_cat_ord_transformed, X_test_oneHot],axis=1)"
   ]
  },
  {
   "cell_type": "code",
   "execution_count": 94,
   "id": "92822447",
   "metadata": {},
   "outputs": [
    {
     "ename": "ModuleNotFoundError",
     "evalue": "No module named 'np'",
     "output_type": "error",
     "traceback": [
      "\u001b[0;31m---------------------------------------------------------------------------\u001b[0m",
      "\u001b[0;31mModuleNotFoundError\u001b[0m                       Traceback (most recent call last)",
      "\u001b[0;32m/var/folders/yq/w1r3w66n7qv1d9j6x_jp9k9r0000gn/T/ipykernel_13398/3144916381.py\u001b[0m in \u001b[0;36m<module>\u001b[0;34m\u001b[0m\n\u001b[1;32m      1\u001b[0m \u001b[0;31m#Save the transformed data into data/transform folder\u001b[0m\u001b[0;34m\u001b[0m\u001b[0;34m\u001b[0m\u001b[0m\n\u001b[1;32m      2\u001b[0m \u001b[0;34m\u001b[0m\u001b[0m\n\u001b[0;32m----> 3\u001b[0;31m \u001b[0;32mimport\u001b[0m \u001b[0mnp\u001b[0m \u001b[0;32mas\u001b[0m \u001b[0mnp\u001b[0m\u001b[0;34m\u001b[0m\u001b[0;34m\u001b[0m\u001b[0m\n\u001b[0m\u001b[1;32m      4\u001b[0m \u001b[0;34m\u001b[0m\u001b[0m\n\u001b[1;32m      5\u001b[0m \u001b[0mnp\u001b[0m\u001b[0;34m.\u001b[0m\u001b[0msavetxt\u001b[0m\u001b[0;34m(\u001b[0m\u001b[0mconfig\u001b[0m\u001b[0;34m.\u001b[0m\u001b[0mtraintest_path\u001b[0m \u001b[0;34m+\u001b[0m \u001b[0;34m\"X_train_prepared_m.csv\"\u001b[0m\u001b[0;34m,\u001b[0m \u001b[0mX_train_prepared_m\u001b[0m\u001b[0;34m,\u001b[0m \u001b[0mdelimiter\u001b[0m\u001b[0;34m=\u001b[0m\u001b[0;34m\",\"\u001b[0m\u001b[0;34m)\u001b[0m\u001b[0;34m\u001b[0m\u001b[0;34m\u001b[0m\u001b[0m\n",
      "\u001b[0;31mModuleNotFoundError\u001b[0m: No module named 'np'"
     ]
    }
   ],
   "source": [
    "#Save the transformed data into data/transform folder\n",
    "\n",
    "import numpy as np\n",
    "\n",
    "np.savetxt(config.traintest_path + \"X_train_prepared.csv\", X_train_prepared_m, delimiter=\",\")\n",
    "np.savetxt(config.traintest_path + \"X_train_prepared.csv\", X_train_prepared, delimiter=\",\")\n",
    "np.savetxt(config.traintest_path + \"X_train.csv\", X_train, delimiter=\",\")\n",
    "np.savetxt(config.traintest_path + \"X_test.csv\", X_test, delimiter=\",\")\n",
    "np.savetxt(config.traintest_path + \"y_train_prepared.csv\", y_train_prepared, delimiter=\",\")\n",
    "np.savetxt(config.traintest_path + \"y_test_prepared.csv\", y_test_prepared, delimiter=\",\")"
   ]
  },
  {
   "cell_type": "code",
   "execution_count": null,
   "id": "99f12703",
   "metadata": {},
   "outputs": [],
   "source": []
  }
 ],
 "metadata": {
  "kernelspec": {
   "display_name": "Python 3 (ipykernel)",
   "language": "python",
   "name": "python3"
  },
  "language_info": {
   "codemirror_mode": {
    "name": "ipython",
    "version": 3
   },
   "file_extension": ".py",
   "mimetype": "text/x-python",
   "name": "python",
   "nbconvert_exporter": "python",
   "pygments_lexer": "ipython3",
   "version": "3.9.7"
  }
 },
 "nbformat": 4,
 "nbformat_minor": 5
}
