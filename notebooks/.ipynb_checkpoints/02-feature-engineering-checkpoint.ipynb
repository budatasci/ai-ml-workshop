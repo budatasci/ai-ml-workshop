{
 "cells": [
  {
   "cell_type": "markdown",
   "id": "6238bb85",
   "metadata": {},
   "source": [
    "# Feature Engineering\n",
    "Authors: Kolvin Liu, Wei Mai, Christina Xu"
   ]
  },
  {
   "cell_type": "code",
   "execution_count": null,
   "id": "66e64378",
   "metadata": {},
   "outputs": [],
   "source": [
    "# import packages\n",
    "\n",
    "# data manipulation\n",
    "import pandas as pd\n",
    "import numpy as np\n",
    "\n",
    "# data splitting\n",
    "from sklearn.model_selection import train_test_split\n",
    "\n",
    "# data preprocessing\n",
    "from sklearn.preprocessing import StandardScaler\n",
    "from sklearn.preprocessing import LabelEncoder\n",
    "from sklearn.preprocessing import OneHotEncoder"
   ]
  },
  {
   "cell_type": "markdown",
   "id": "7ac5fa34",
   "metadata": {},
   "source": [
    "## Table of Contents\n",
    "\n",
    "1. Split the data into training and test data set\n",
    "2. Scale numerical features (normalization, standardization)\n",
    "3. Encode categorical features to numeric ones\n",
    "4. Save transformed data for model training"
   ]
  },
  {
   "cell_type": "code",
   "execution_count": null,
   "id": "0c9475bc",
   "metadata": {},
   "outputs": [],
   "source": [
    "# load the data \n",
    "data = pd.read_csv('../data/Breast_Cancer.csv')\n",
    "data.head()"
   ]
  },
  {
   "cell_type": "markdown",
   "id": "cd827052",
   "metadata": {},
   "source": [
    "## 1. Split the data into training and test data set"
   ]
  },
  {
   "cell_type": "markdown",
   "id": "3ef59424",
   "metadata": {},
   "source": [
    "We split the data into a training and test data set to minimize overfitting. Overfitting occurs when we’ve fit the model too much to the training data. To prevent that we train on a subset of our data and test on our remaining data. "
   ]
  },
  {
   "cell_type": "code",
   "execution_count": null,
   "id": "4ea4d433",
   "metadata": {},
   "outputs": [],
   "source": [
    "X_train, X_test, y_train, y_test = \\\n",
    "    train_test_split(data.drop(['Status'], axis=1),data['Status'], \n",
    "    test_size=0.20,\n",
    "    random_state=42, \n",
    "    stratify=data['Status'])\n",
    "\n",
    "# test_size indicates the percentage of the data that should be held over for testing\n",
    "# random_state ensures that it always generates the same shuffled indicies\n",
    "# stratify keeps the proportion of y values trhough the train and test sets"
   ]
  },
  {
   "cell_type": "markdown",
   "id": "40d0f951",
   "metadata": {},
   "source": [
    "## 2. Scale Numeric Features\n",
    "1. ML algorithms don't work well when numeric features have very different scales\n",
    "2. Apply either: \n",
    "    * Normalization (MinMaxScaler) bounds the values to a specific range (e.g. 0-1)\n",
    "    * Standardization (StandardScaler) less affected by outliers does not bound to range"
   ]
  },
  {
   "cell_type": "code",
   "execution_count": null,
   "id": "e015c924",
   "metadata": {},
   "outputs": [],
   "source": [
    "# get numeric feature columns and store them in num\n",
    "num = []\n",
    "for label, content in data.items():\n",
    "    if pd.api.types.is_numeric_dtype(content): # check whether if column is numerical\n",
    "        print(label)\n",
    "        num.append(label)"
   ]
  },
  {
   "cell_type": "code",
   "execution_count": null,
   "id": "567e24a1",
   "metadata": {},
   "outputs": [],
   "source": [
    "def std_scaler(data):\n",
    "    \"\"\"\n",
    "    Scales numeric features of data\n",
    "    :param 1 data: a DataFrame\n",
    "    :return: a scaled DataFrame\n",
    "    \"\"\"\n",
    "    scaler = StandardScaler() # create a StandardScaler() instance\n",
    "    X_num = data[num]         # select numeric features of the data\n",
    "    O = scaler.fit_transform(X_num) # scale the numeric data\n",
    "    P = pd.DataFrame(O, columns=X_num.columns, index=X_num.index)\n",
    "    return P"
   ]
  },
  {
   "cell_type": "code",
   "execution_count": null,
   "id": "a09a6e76",
   "metadata": {},
   "outputs": [],
   "source": [
    "X_train_num = std_scaler(X_train) # apply to training set \n",
    "X_test_num = std_scaler(X_test) # apply to test set"
   ]
  },
  {
   "cell_type": "markdown",
   "id": "d35f2c21",
   "metadata": {},
   "source": [
    "## 3. Encode Categorical Features into Numeric Ones\n",
    "\n",
    "1. ML algorithms can't interpret non-numeric features \n",
    "2. Apply:\n",
    "    * Label Encoder - categorical features are ordinal i.e. if you are converting severity or ranking\n",
    "    * One-Hot Encoding - categorical are non-ordinal "
   ]
  },
  {
   "cell_type": "markdown",
   "id": "43e530e5",
   "metadata": {},
   "source": [
    "## 3.1 Apply Label Encoder to Ordinal Categorical Features\n",
    "T Stage, N Stage, 6th Stage, differentiate, Grade, A Stage are ordinal."
   ]
  },
  {
   "cell_type": "code",
   "execution_count": null,
   "id": "ae63ebfd",
   "metadata": {},
   "outputs": [],
   "source": [
    "def label_encoder(data, ordinal):\n",
    "    \"\"\"\n",
    "    Transforms ordinal categorical features to numeric features \n",
    "    :param 1 data: a DataFrame\n",
    "    :param 2 ordinal: oridinal categorical features\n",
    "    :returns: a DataFrame of label encoded categorial features \n",
    "    \"\"\"\n",
    "    X_ord = data[ordinal].copy()\n",
    "    for col in X_ord:\n",
    "        X_ord[col] = LabelEncoder().fit_transform(data[col])\n",
    "    return X_ord "
   ]
  },
  {
   "cell_type": "code",
   "execution_count": null,
   "id": "6a939a53",
   "metadata": {},
   "outputs": [],
   "source": [
    "ordinal = ['T Stage ', 'N Stage', '6th Stage', 'differentiate', 'Grade', 'A Stage'] \n",
    "X_train_ord = label_encoder(X_train, ordinal)\n",
    "X_test_ord = label_encoder(X_test, ordinal)"
   ]
  },
  {
   "cell_type": "markdown",
   "id": "4a3cde18",
   "metadata": {},
   "source": [
    "## 3.2 Apply One Hot Encoding to Non-Ordinal Categorical Features\n",
    "Race, Marital Status, Estrogen Status, and Progesterone Status are non-ordinal."
   ]
  },
  {
   "cell_type": "code",
   "execution_count": null,
   "id": "295caf44",
   "metadata": {},
   "outputs": [],
   "source": [
    "def one_hot_encoder(data, non_ordinal):\n",
    "    \"\"\"\n",
    "    Transforms non-ordinal categorical features to vectorized numeric features \n",
    "    :param 1 data: a DataFrame\n",
    "    :param2 non_ordinal: non-ordinal categorical features\n",
    "    :returns: a DataFrame of One Hot encoded categorical features\n",
    "    \"\"\"\n",
    "    X_non = data[non_ordinal].copy()\n",
    "    X_non = pd.get_dummies(X_non, columns = ['Race','Marital Status'])\n",
    "    X_non['Estrogen Status'] = X_non['Estrogen Status'].apply(lambda x: 1 if x in ['Positive'] else 0)\n",
    "    X_non['Progesterone Status'] = X_non['Progesterone Status'].apply(lambda x: 1 if x in ['Positive'] else 0)\n",
    "    \n",
    "    return X_non"
   ]
  },
  {
   "cell_type": "code",
   "execution_count": null,
   "id": "67308144",
   "metadata": {},
   "outputs": [],
   "source": [
    "non_ordinal = ['Race', 'Marital Status', 'Estrogen Status', 'Progesterone Status']\n",
    "X_train_non = one_hot_encoder(X_train, non_ordinal)\n",
    "X_test_non = one_hot_encoder(X_test, non_ordinal)"
   ]
  },
  {
   "cell_type": "markdown",
   "id": "474ad401",
   "metadata": {},
   "source": [
    "## 3.3 Encoding Status\n",
    "Transform the target label from categorical to numerical"
   ]
  },
  {
   "cell_type": "code",
   "execution_count": null,
   "id": "57468de4",
   "metadata": {},
   "outputs": [],
   "source": [
    "y_train_prepared =  y_train.apply(lambda x: 1 if x in [\"Alive\"] else 0)\n",
    "y_test_prepared =  y_test.apply(lambda x: 1 if x in [\"Alive\"] else 0)"
   ]
  },
  {
   "cell_type": "markdown",
   "id": "7cd3373c",
   "metadata": {},
   "source": [
    "## 4. Save transformed data for model training"
   ]
  },
  {
   "cell_type": "code",
   "execution_count": null,
   "id": "9b1bcceb",
   "metadata": {},
   "outputs": [],
   "source": [
    "def concat(X_num, X_ord, X_non):\n",
    "    \"\"\"\n",
    "    Concatenate transformed features into a DataFrame\n",
    "    :param 1 X_num: Scaled numeric features\n",
    "    :param 2 X_ord: Label encoded ordinal categorical features\n",
    "    :param 3 X_ord: One hot encoded non-ordinal categorical features\n",
    "    :returns: a DataFrame of transformed features \n",
    "    \"\"\"\n",
    "    X_prepared = pd.concat([X_num, X_ord, X_non], axis=1)\n",
    "    return X_prepared "
   ]
  },
  {
   "cell_type": "code",
   "execution_count": null,
   "id": "bcb90ba0",
   "metadata": {},
   "outputs": [],
   "source": [
    "X_train_prepared = concat(X_train_num, X_train_ord, X_train_non)\n",
    "X_test_prepared = concat(X_test_num, X_test_ord, X_test_non)"
   ]
  },
  {
   "cell_type": "code",
   "execution_count": null,
   "id": "d06e960a",
   "metadata": {},
   "outputs": [],
   "source": [
    "#save the transformed data into data/transform folder\n",
    "\n",
    "filepath = '../models/'\n",
    "\n",
    "np.savetxt(filepath + \"X_train_prepared.csv\", X_train_prepared, delimiter=\",\")\n",
    "np.savetxt(filepath + \"X_test_prepared.csv\", X_test_prepared, delimiter=\",\")\n",
    "np.savetxt(filepath + \"y_train_prepared.csv\", y_train_prepared, delimiter=\",\")\n",
    "np.savetxt(filepath + \"y_test_prepared.csv\", y_test_prepared, delimiter=\",\")"
   ]
  }
 ],
 "metadata": {
  "kernelspec": {
   "display_name": "Python 3 (ipykernel)",
   "language": "python",
   "name": "python3"
  },
  "language_info": {
   "codemirror_mode": {
    "name": "ipython",
    "version": 3
   },
   "file_extension": ".py",
   "mimetype": "text/x-python",
   "name": "python",
   "nbconvert_exporter": "python",
   "pygments_lexer": "ipython3",
   "version": "3.9.7"
  }
 },
 "nbformat": 4,
 "nbformat_minor": 5
}
