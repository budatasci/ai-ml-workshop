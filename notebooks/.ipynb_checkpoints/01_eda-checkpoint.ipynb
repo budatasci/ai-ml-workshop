{
 "cells": [
  {
   "cell_type": "markdown",
   "metadata": {},
   "source": [
    "# Explore and Visualize the Data\n",
    "Authors: Ryan Nie, Christina Xu"
   ]
  },
  {
   "cell_type": "code",
   "execution_count": null,
   "metadata": {},
   "outputs": [],
   "source": [
    "# import packages \n",
    "\n",
    "# data manipulation\n",
    "import numpy as np\n",
    "import pandas as pd\n",
    "\n",
    "# data visualization\n",
    "import matplotlib.pyplot as plt\n",
    "import seaborn as sns"
   ]
  },
  {
   "cell_type": "markdown",
   "metadata": {},
   "source": [
    "## Table of Contents\n",
    "1. Data attributes\n",
    "2. Download the data\n",
    "3. Explore the data using Pandas\n",
    "4. Visualize the data with Matplotlib and Seaborn\n",
    "5. Explore correlation among features"
   ]
  },
  {
   "cell_type": "markdown",
   "metadata": {},
   "source": [
    "## 1. Data attributes \n",
    "\n",
    "1. **Race**: White, Black, and Other\n",
    "\n",
    "\n",
    "2. **Marital Status**: Married, Divorced, Single, Widowed, and Separated\n",
    "\n",
    "\n",
    "3. **T Stage** - refers to the size and extent of the main tumor. The higher the number after the T, the larger the tumor or the more it has grown into nearby tissues. \n",
    "    * T-T0: No evidence of primary tumor\n",
    "    * T1 (includes T1a, T1b, and T1c): Tumor is 2 cm (3/4 of an inch) or less across\n",
    "    * T2: Tumor is more than 2 cm but not more than 5 cm (2 inches) across\n",
    "    * T3: Tumor is more than 5 cm across\n",
    "\n",
    "\n",
    "4. **N Stage** - refers to the the number of nearby lymph nodes that have cancer. The M refers to whether the cancer has metastasized. This means that the cancer has spread from the main tumor to other parts of the body.N1, N2, N3: Refers to the number and location of lymph nodes that contain cancer. The higher the number after the N, the more lymph nodes that contain cancer.\n",
    "\n",
    "\n",
    "5. **6th Stage**: Stage groups for breast cancer.Doctors assign the stage of the cancer by combining the T, N, and M classifications (see above), the tumor grade, and the results of ER/PR and HER2 testing. This information is used to help determine your prognosis. Doctors may refer to stage I to stage IIA cancer as \"early stage\" and stage IIB to stage III as \"locally advanced.\"\n",
    "\n",
    "    * Stage IIA:\n",
    "\n",
    "        * There is no evidence of a tumor in the breast, but the cancer has spread to 1 to 3 axillary lymph nodes. It has not spread to distant parts of the body (T0, N1, M0).\n",
    "\n",
    "        * The tumor is 20 mm or smaller and has spread to 1 to 3 axillary lymph nodes (T1, N1, M0).\n",
    "\n",
    "        * The tumor is larger than 20 mm but not larger than 50 mm and has not spread to the axillary lymph nodes (T2, N0, M0).\n",
    "    * Stage IIB:\n",
    "\n",
    "         * The tumor is larger than 20 mm but not larger than 50 mm and has spread to 1 to 3 axillary lymph nodes (T2, N1, M0).\n",
    "\n",
    "         * The tumor is larger than 50 mm but has not spread to the axillary lymph nodes (T3, N0, M0).\n",
    "    * Stage IIIA: The tumor of any size has spread to 4 to 9 axillary lymph nodes or to internal mammary lymph nodes. It has not spread to other parts of the body (T0, T1, T2, or T3; N2; M0). Stage IIIA may also be a tumor larger than 50 mm that has spread to 1 to 3 axillary lymph nodes (T3, N1, M0).\n",
    "\n",
    "    * Stage IIIB: The tumor has spread to the chest wall or caused swelling or ulceration of the breast, or it is diagnosed as inflammatory breast cancer. It may or may not have spread to up to 9 axillary or internal mammary lymph nodes. It has not spread to other parts of the body (T4; N0, N1, or N2; M0).\n",
    "\n",
    "    * Stage IIIC: A tumor of any size that has spread to 10 or more axillary lymph nodes, the internal mammary lymph nodes, and/or the lymph nodes under the collarbone. It has not spread to other parts of the body (any T, N3, M0).\n",
    "\n",
    "\n",
    "6. **differentiate**: Poorly differentiated, Moderately differentiated, Well differentiated,and Undifferentiated\n",
    "\n",
    "\n",
    "7. **Grade**:\n",
    "    * 1: looks most like normal breast cells and is usually slow growing \n",
    "    * 2: looks less like normal cells and is growing faster \n",
    "    * 3 looks different to normal breast cells and is usually fast growing\n",
    "\n",
    "\n",
    "8. **A Stage** - These parameters show stages of cancer and is a summary of all data, it is an attribute that involves T,N and Grade data.\n",
    "\n",
    "    * Regional: The cancer has spread outside the breast to nearby structures or lymph nodes.\n",
    "    * Distant: The cancer has spread to distant parts of the body such as the lungs, liver or bones.\n",
    "\n",
    "\n",
    "9. **Estrogen Status**: Estrogen positive and Estrogen negative\n",
    "\n",
    "    * Estrogen positive : - Cancer cells that are ER positive may need estrogen to grow. These cells may stop growing or die when treated with substances that block the binding and actions of estrogen. Also called estrogen receptor positive.\n",
    "\n",
    "    * Estrogen negative : - negative breast cancers are a group of tumors with poor prognosis and fewer cancer prevention and treatment strategies compared to ER-positive tumors.\n",
    "\n",
    "\n",
    "10. **Progesterone Status**: Progesterone positive and Progesterone negative\n",
    "\n",
    "    * Progesterone positive:- This type of breast cancer is sensitive to progesterone, and the cells have receptors that allow them to use this hormone to grow. Treatment with endocrine therapy blocks the growth of the cancer cells.\n",
    "\n",
    "    * Progesterone negative: - This type of breast cancers have no estrogen or progesterone receptors. Treatment with hormone therapy drugs is not helpful for these cancers. These cancers tend to grow faster than hormone receptor-positive cancers.\n",
    "\n",
    "\n",
    "11. **Regional Node Examined** - Records the total number of regional lymph nodes that were removed and examined by the pathologist.\n",
    "\n",
    "\n",
    "12. **Reginol Node Positive** -  Records the exact number of regional lymph nodes examined by the pathologist that were found to contain metastases.\n",
    "\n",
    "\n",
    "13. **Survival Months** - Created using complete dates, including days, therefore may differ from survival time calculated from year and month only.\n",
    "\n",
    "\n",
    "14. **Status**: Any patient that dies after the follow-up cut-off date is recoded to alive as of the cut-off date.\n",
    "\n",
    "**References**:\n",
    "\n",
    "https://ieee-dataport.org/open-access/seer-breast-cancer-data"
   ]
  },
  {
   "cell_type": "markdown",
   "metadata": {},
   "source": [
    "## 2. Download the data \n",
    "\n",
    "The data has been downloaded and extracted locally from Kaggle into the folder named data. Kaggle data source: https://www.kaggle.com/datasets/reihanenamdari/breast-cancer"
   ]
  },
  {
   "cell_type": "markdown",
   "metadata": {},
   "source": [
    "## 3. Explore the data using Pandas\n",
    "## 3.1 Load data from disk and view the raw data.\n",
    "At a quick glance, we want to look for:\n",
    "* NaNs (null values)\n",
    "* Understand the features and hypothesize how they may predict Status\n",
    "* The types of data (numerical vs categorical)"
   ]
  },
  {
   "cell_type": "code",
   "execution_count": null,
   "metadata": {
    "colab": {
     "base_uri": "https://localhost:8080/",
     "height": 392
    },
    "id": "5DWN1_NqYNPk",
    "outputId": "788f8349-49bb-4d80-f012-25aa55f6e6f8"
   },
   "outputs": [],
   "source": [
    "data = pd.read_csv('../data/Breast_Cancer.csv')\n",
    "data.head() # first 5 rows"
   ]
  },
  {
   "cell_type": "markdown",
   "metadata": {},
   "source": [
    "## 3.2 View information about the data\n",
    "* How many features do we have?\n",
    "* What features seem redundant?\n",
    "* How many null values do each of them have?\n",
    "    * The fewer non-null values, the less utility\n",
    "* What are the different data types? "
   ]
  },
  {
   "cell_type": "code",
   "execution_count": null,
   "metadata": {
    "colab": {
     "base_uri": "https://localhost:8080/"
    },
    "id": "7-UxHLAnYbYm",
    "outputId": "78eedf2a-dc9e-4cfe-ee25-1e8511b40f11"
   },
   "outputs": [],
   "source": [
    "data.info() "
   ]
  },
  {
   "cell_type": "markdown",
   "metadata": {},
   "source": [
    "Our data has no null values. Typically, real world data would have some, if not many. If so, your next step would be to explore the null values in the feaures."
   ]
  },
  {
   "cell_type": "markdown",
   "metadata": {},
   "source": [
    "## 3.3 Get Summary Statistics"
   ]
  },
  {
   "cell_type": "markdown",
   "metadata": {},
   "source": [
    "* Count - each column has 4024 values\n",
    "* Mean, min(imum), and max(imum) are self-explanatory\n",
    "* Std (standard deviation) - explains spread out the values are from the mean\n",
    "  * Normal (Gaussian) distribution follows 68-95-99.7 rule\n",
    "    * 68% of values are within 1 std\n",
    "    * 95% of values are within 2 std\n",
    "    * 99.7% of values are within 3 std\n",
    "* 25% - first quartile\n",
    "    * eg. 25% of the patients were under 47 years old\n",
    "* 50% - second quartile or median\n",
    "* 75 % - third quartile"
   ]
  },
  {
   "cell_type": "code",
   "execution_count": null,
   "metadata": {
    "colab": {
     "base_uri": "https://localhost:8080/",
     "height": 300
    },
    "id": "X2lSeC6yYmi7",
    "outputId": "994969e0-164f-4eca-86b1-c2a3ab6f652d"
   },
   "outputs": [],
   "source": [
    "data.describe().T"
   ]
  },
  {
   "cell_type": "markdown",
   "metadata": {},
   "source": [
    "## 3.4 How many patients are alive? "
   ]
  },
  {
   "cell_type": "code",
   "execution_count": null,
   "metadata": {
    "colab": {
     "base_uri": "https://localhost:8080/"
    },
    "id": "UK_xePQ0YqgG",
    "outputId": "b5e822ba-3a70-470f-82ad-d1fa8107ad76"
   },
   "outputs": [],
   "source": [
    "data['Status'].value_counts()"
   ]
  },
  {
   "cell_type": "markdown",
   "metadata": {},
   "source": [
    "## 4. Visualize the data with Matplotlib and Seaborn"
   ]
  },
  {
   "cell_type": "code",
   "execution_count": null,
   "metadata": {
    "id": "-_wgzxnLYuej"
   },
   "outputs": [],
   "source": [
    "# store the Status label as y\n",
    "y = data['Status']\n",
    "\n",
    "# seperate features into numerical and categorical datasets\n",
    "X_num = data[['Age', 'Tumor Size', 'Reginol Node Positive', 'Survival Months', 'Regional Node Examined']]\n",
    "X_cat = data[['Race', 'Marital Status', 'T Stage ', 'N Stage', '6th Stage', 'differentiate', 'Grade', 'A Stage','Estrogen Status',\n",
    "                  'Progesterone Status']]\n"
   ]
  },
  {
   "cell_type": "markdown",
   "metadata": {},
   "source": [
    "## 4.1 Plot histograms for numerical features"
   ]
  },
  {
   "cell_type": "markdown",
   "metadata": {},
   "source": [
    "Pay attention to clear splits in the plots for the numerical features."
   ]
  },
  {
   "cell_type": "code",
   "execution_count": null,
   "metadata": {},
   "outputs": [],
   "source": [
    "plt.figure(figsize=(18,12))\n",
    "plt.subplots_adjust(hspace = .5)\n",
    "\n",
    "for i, column in enumerate(X_num, 1):\n",
    "    plt.subplot(3,2,i)\n",
    "    sns.histplot(data=X_num, x=column, hue=y, stat=\"density\", common_norm=False, bins=60, kde=True)\n",
    "   \n",
    "    # stat - Aggregate statistic to compute in each bin density normalizes counts so that the area of the histogram is 1\n",
    "    # common_norm - If False, normalize each histogram independently\n",
    "    # kde - If True, compute a kernel density estimate to smooth the distribution and show on the plot as (one or more) line(s)"
   ]
  },
  {
   "cell_type": "markdown",
   "metadata": {},
   "source": [
    "Next steps:\n",
    "1. Age and Suvival Months have clear seperation between Alive and Dead patients\n",
    "2. No clear seperation in Tumor Size, Reginol Node Positive, and Regional Node Examined, could drop"
   ]
  },
  {
   "cell_type": "markdown",
   "metadata": {},
   "source": [
    "## 4.2 Plot histograms for numerical features"
   ]
  },
  {
   "cell_type": "code",
   "execution_count": null,
   "metadata": {
    "colab": {
     "base_uri": "https://localhost:8080/",
     "height": 1000
    },
    "id": "wS6ON9M_cSgH",
    "outputId": "e8f444f0-e6ff-4b69-f72c-4a6e7ea46e5c"
   },
   "outputs": [],
   "source": [
    "plt.figure(figsize=(18,12))\n",
    "plt.subplots_adjust(hspace = .5)\n",
    "for i, column in enumerate(X_cat, 1):\n",
    "    plt.subplot(5,2,i)\n",
    "    sns.histplot(data, x=column, hue=y, multiple='fill', stat='proportion',\n",
    "    shrink=.8) #stat=\"proportion\",discrete=True)"
   ]
  },
  {
   "cell_type": "markdown",
   "metadata": {},
   "source": [
    "Next steps:\n",
    "1. T Stage, N Stage, 6th Stage, differentiate, and Grade are **ordinal** variables, meaning that there is a clear ordering of the categories.\n",
    "   eg. For T Stage, as the number following the T increases, the higher the proportion of those who die from cancer\n",
    "2. Race, Marital Status, A Stage, Estrogen Status, and Progesterone Status are **non-ordinal** variables, meaning that they have no intrinsic ordering to the categories."
   ]
  },
  {
   "cell_type": "markdown",
   "metadata": {},
   "source": [
    "## 5. Explore correlation among features"
   ]
  },
  {
   "cell_type": "code",
   "execution_count": null,
   "metadata": {
    "colab": {
     "base_uri": "https://localhost:8080/",
     "height": 384
    },
    "id": "uPGfauzTa96B",
    "outputId": "44841fd8-98b3-45c1-e007-d8744782db06"
   },
   "outputs": [],
   "source": [
    "corr_matrix = X_num.corr()\n",
    "mask = np.triu(np.ones_like(corr_matrix, dtype=bool))\n",
    "sns.heatmap(corr_matrix, mask=mask, annot=True)"
   ]
  },
  {
   "cell_type": "markdown",
   "metadata": {},
   "source": [
    "It appears that Reginol Node Positive and Tumor Size had a moderately strong correlation (0.24) and Regional Node Examined and Reginol Node Positive have a moderately strong correlation as well (0.41)."
   ]
  }
 ],
 "metadata": {
  "colab": {
   "provenance": []
  },
  "kernelspec": {
   "display_name": "Python 3 (ipykernel)",
   "language": "python",
   "name": "python3"
  },
  "language_info": {
   "codemirror_mode": {
    "name": "ipython",
    "version": 3
   },
   "file_extension": ".py",
   "mimetype": "text/x-python",
   "name": "python",
   "nbconvert_exporter": "python",
   "pygments_lexer": "ipython3",
   "version": "3.9.7"
  }
 },
 "nbformat": 4,
 "nbformat_minor": 1
}
